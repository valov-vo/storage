{
 "cells": [
  {
   "cell_type": "markdown",
   "id": "369d9ef8-f254-4f8a-baa4-aec52d7d5b7e",
   "metadata": {},
   "source": [
    "#### Сохраняй результаты вычисления, если они долго считались"
   ]
  },
  {
   "cell_type": "code",
   "execution_count": null,
   "id": "4fd8d62a-158a-460f-a0c9-e7ea129abff4",
   "metadata": {},
   "outputs": [],
   "source": [
    "regenerate = True  # Флаг, который ты легко можешь переключать\n",
    "\n",
    "if regenerate: # При первом проходе готовим данные\n",
    "     df = make_features(df) # Подготавливаем признаки для трейна\n",
    "     df.to_csv('train_with_features.csv', index=False) # Сохраняем\n",
    "     sub = make_features(sub) # Подготавливаем признаки для сабмита\n",
    "     sub.to_csv('test_with_features.csv', index=False) # Сохраняем\n",
    "\n",
    "else: # При повторном проходе можно сэкономить бесценное время\n",
    "     df = pd.read_csv('train_with_features.csv')\n",
    "     sub = pd.read_csv('test_with_features.csv')"
   ]
  },
  {
   "cell_type": "markdown",
   "id": "da8d6ae9-fff0-487b-872a-4377a2b9ba98",
   "metadata": {},
   "source": [
    "#### Сохраняй файлы пиклом (df.to_pickle()/pd.read_pickle())"
   ]
  },
  {
   "cell_type": "code",
   "execution_count": null,
   "id": "7735fc6f-9b3f-441d-9ea8-95151b1a130b",
   "metadata": {},
   "outputs": [],
   "source": [
    "import pickle\n",
    "\n",
    "a = {'hello': 'world'}\n",
    "\n",
    "with open('filename.pickle', 'wb') as handle:\n",
    "    pickle.dump(a, handle, protocol=pickle.HIGHEST_PROTOCOL)\n",
    "\n",
    "with open('filename.pickle', 'rb') as handle:\n",
    "    b = pickle.load(handle)\n",
    "\n",
    "print(a == b)"
   ]
  },
  {
   "cell_type": "markdown",
   "id": "1c1e0888-4176-46b1-b0d3-4e5e2d2399df",
   "metadata": {},
   "source": [
    "#### Используй классы вместо словарей"
   ]
  },
  {
   "cell_type": "code",
   "execution_count": null,
   "id": "e47d00ac-e7a3-4f92-8d64-92e5b3121757",
   "metadata": {},
   "outputs": [],
   "source": [
    "class Paths:\n",
    "    model_xgb = '../models/xgb.pickle'\n",
    "    model_cb  = '../models/cb.pickle'\n",
    "    model_lgb = '../models/lgb.pickle'\n",
    "    \n",
    "paths = Paths()\n",
    "\n",
    "paths.model_xgb  # вместо paths['model_xgb'] при работе со словарем"
   ]
  },
  {
   "cell_type": "markdown",
   "id": "570a185a-9358-4202-bded-854b08b2c7d4",
   "metadata": {},
   "source": [
    "### Режим работы"
   ]
  },
  {
   "cell_type": "code",
   "execution_count": null,
   "id": "90e1e3c9-50ea-492c-82fe-8aa63418f585",
   "metadata": {},
   "outputs": [],
   "source": [
    "X = pd.read_csv('data/train.csv')\n",
    "y = pd.read_csv('data/y_train.csv')\n",
    "\n",
    "MODE = 'validation'\n",
    "if MODE == 'validation':\n",
    "    X_train, X_test, y_train, y_test = train_test_split(X, y,\n",
    "                                                        test_size=0.2,\n",
    "                                                        random_state=42)\n",
    "elif MODE == 'test':\n",
    "    X_train = X\n",
    "    y_train = y\n",
    "    X_test = pd.read_csv('data/test.csv')"
   ]
  },
  {
   "cell_type": "markdown",
   "id": "a7ab86fb-e76e-4ac3-b146-264c3cf65a0f",
   "metadata": {},
   "source": [
    "#### Используй tqdm для «подсветки»"
   ]
  },
  {
   "cell_type": "code",
   "execution_count": null,
   "id": "03f90bef-6623-449a-ac70-8123083bf1d9",
   "metadata": {},
   "outputs": [],
   "source": [
    "from tqdm import tqdm\n",
    "\n",
    "for i in tqdm(range(100))\n",
    "    time.sleep(0.1)"
   ]
  },
  {
   "cell_type": "code",
   "execution_count": null,
   "id": "22d1ec60-575d-446d-bb02-ed80cd88d955",
   "metadata": {},
   "outputs": [],
   "source": [
    "df.filter(like='a', axis=1)\n",
    "df.query('age > visits')"
   ]
  },
  {
   "cell_type": "code",
   "execution_count": null,
   "id": "255031c7-fd18-4dcb-8422-8905062692a6",
   "metadata": {},
   "outputs": [],
   "source": [
    "car2stay = ['g55775125g', 'Y-6420899e', 'z77468044J']\n",
    "mask = rides_info['car_id'].isin(car2stay)\n",
    "\n",
    "rides_info[mask]"
   ]
  },
  {
   "cell_type": "markdown",
   "id": "7a021f28-178b-4348-94df-1508b912fb9a",
   "metadata": {},
   "source": [
    "#### Поэлементно df.applymap(lambda x: func)"
   ]
  },
  {
   "cell_type": "code",
   "execution_count": null,
   "id": "0626f296-7946-4d92-89fd-0808466a1acf",
   "metadata": {},
   "outputs": [],
   "source": [
    "df.applymap(lambda x: len(str(x)))\n",
    "\n",
    "# Создадим бинарную колонку 'more_2', если было больше 2-х визитов на основе колонки 'visits'\n",
    "df['more_2'] = df['visits'].apply(lambda x: 1 if x > 2 else 0)\n",
    "df.head()"
   ]
  }
 ],
 "metadata": {
  "kernelspec": {
   "display_name": "Python 3 (ipykernel)",
   "language": "python",
   "name": "python3"
  },
  "language_info": {
   "codemirror_mode": {
    "name": "ipython",
    "version": 3
   },
   "file_extension": ".py",
   "mimetype": "text/x-python",
   "name": "python",
   "nbconvert_exporter": "python",
   "pygments_lexer": "ipython3",
   "version": "3.11.3"
  }
 },
 "nbformat": 4,
 "nbformat_minor": 5
}
